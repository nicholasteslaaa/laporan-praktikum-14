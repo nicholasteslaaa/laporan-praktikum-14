{
 "cells": [
  {
   "cell_type": "markdown",
   "id": "da9981a5",
   "metadata": {},
   "source": [
    "latihan mandiri 1"
   ]
  },
  {
   "cell_type": "code",
   "execution_count": 2,
   "id": "15b1a435-469f-471a-addc-f7a981d6d9db",
   "metadata": {},
   "outputs": [
    {
     "name": "stdout",
     "output_type": "stream",
     "text": [
      "17-08-1945 03-06-2024 selisih: 28910\n",
      "11-11-1785 03-06-2024 selisih: 87395\n",
      "08-06-1783 03-06-2024 selisih: 87970\n",
      "02-05-1889 03-06-2024 selisih: 49306\n"
     ]
    }
   ],
   "source": [
    "import re\n",
    "import time\n",
    "\n",
    "kalimat = \"\"\"\n",
    "Pada tanggal 1945-08-17 Indonesia merdeka. Indonesia memiliki beberapa pahlawan\n",
    "nasional, seperti Pangeran Diponegoro (TL: 1785-11-11), Pattimura (TL: 1783-06-08) dan Ki\n",
    "Hajar Dewantara (1889-05-02).\n",
    "\"\"\"\n",
    "\n",
    "tanggal = re.findall(r\"\\d{4}-\\d{2}-\\d{2}\",kalimat)\n",
    "tanggal_sekarang = str(time.localtime())\n",
    "now = re.findall(r\"year=(\\d+).+mon=(\\d+).+mday=(\\d+)\",tanggal_sekarang)\n",
    "tanggal_sekarang = list(now[0][::-1])\n",
    "\n",
    "if int(tanggal_sekarang[0]) < 10:\n",
    "    tanggal_sekarang[0] = \"0\"+tanggal_sekarang[0]\n",
    "if int(tanggal_sekarang[1]) < 10:\n",
    "    tanggal_sekarang[1] = \"0\"+tanggal_sekarang[1]\n",
    "\n",
    "tanggal_sekarang_join = \"-\".join(tanggal_sekarang)\n",
    "\n",
    "\n",
    "for i in tanggal:\n",
    "    selisih_tahun = (int(tanggal_sekarang[2])-int(str(i).split(\"-\")[0]))*365\n",
    "    selisih_bulan = (int(tanggal_sekarang[1])-int(str(i).split(\"-\")[1]))\n",
    "    selisih_hari = (int(tanggal_sekarang[0])-int(str(i).split(\"-\")[2]))\n",
    "    if selisih_bulan < 0:\n",
    "        selisih_bulan = selisih_bulan-(selisih_bulan*2)\n",
    "    if selisih_hari < 0:\n",
    "        selisih_hari = selisih_hari-(selisih_hari*2)\n",
    "    print(f\"{\"-\".join(str(i).split(\"-\")[::-1])} {tanggal_sekarang_join} selisih: {selisih_hari+(selisih_bulan*30)+selisih_bulan//2+selisih_tahun}\")"
   ]
  },
  {
   "cell_type": "markdown",
   "id": "c766f238",
   "metadata": {},
   "source": [
    "latihan mandiri 2"
   ]
  },
  {
   "cell_type": "code",
   "execution_count": 29,
   "id": "ba119c27",
   "metadata": {},
   "outputs": [
    {
     "name": "stdout",
     "output_type": "stream",
     "text": [
      "anton@mail.com username: anton, password: Z4FVM76j\n",
      "budi@gmail.co.id username: budi, password: CRbUzZM2\n",
      "slamet@getnada.com username: slamet, password: XlGhzSYp\n",
      "matahari@tokopedia.com username: matahari, password: YAoiqIyP\n"
     ]
    }
   ],
   "source": [
    "import random\n",
    "import re\n",
    "\n",
    "email_log=\"\"\"anton@mail.com dimiliki oleh antonius\n",
    "budi@gmail.co.id dimiliki oleh budi anwari\n",
    "slamet@getnada.com dimiliki oleh slamet slumut\n",
    "matahari@tokopedia.com dimiliki oleh toko matahari\"\"\"\n",
    "\n",
    "generator = \"1234567890abcdefghijklmnopqrstuvwxyzABCDEFGHIJKLMNOPQRSTUVWXYZ\"\n",
    "\n",
    "\n",
    "email = re.findall(r\"([\\w\\.\\d]+@[\\w\\.\\d]+)\",email_log)\n",
    "username = re.findall(r\"(\\w+)@\",email_log) \n",
    "\n",
    "for i in range(len(email)):\n",
    "    password = \"\"\n",
    "    for j in range(8):\n",
    "        password += generator[random.randint(0,len(generator)-1)]\n",
    "    print(f\"{email[i]} username: {username[i]}, password: {password}\")"
   ]
  }
 ],
 "metadata": {
  "kernelspec": {
   "display_name": "Python 3 (ipykernel)",
   "language": "python",
   "name": "python3"
  },
  "language_info": {
   "codemirror_mode": {
    "name": "ipython",
    "version": 3
   },
   "file_extension": ".py",
   "mimetype": "text/x-python",
   "name": "python",
   "nbconvert_exporter": "python",
   "pygments_lexer": "ipython3",
   "version": "3.12.1"
  }
 },
 "nbformat": 4,
 "nbformat_minor": 5
}
